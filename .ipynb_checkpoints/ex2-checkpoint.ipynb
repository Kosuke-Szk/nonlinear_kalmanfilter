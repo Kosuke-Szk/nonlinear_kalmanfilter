{
 "cells": [
  {
   "cell_type": "markdown",
   "metadata": {},
   "source": [
    "衛星の回転運動モデル"
   ]
  },
  {
   "cell_type": "code",
   "execution_count": 1,
   "metadata": {},
   "outputs": [],
   "source": [
    "import numpy as np\n",
    "import matplotlib.pyplot as plt"
   ]
  },
  {
   "cell_type": "code",
   "execution_count": 7,
   "metadata": {},
   "outputs": [],
   "source": [
    "N = 50\n",
    "nx = 4\n",
    "ny = 1\n",
    "\n",
    "F = np.matrix([[1, 1, 0.5, 0.5],\n",
    "              [0, 1,   1,   1],\n",
    "              [0, 0,   1,   0],\n",
    "              [0, 0,   0, 0.606]]) # 遷移行列\n",
    "H = np.matrix([1,0,0,0])  # 観測行列\n",
    "G = np.matrix([0,0,0,1])\n",
    "q = 0.0064\n",
    "\n",
    "x = np.zeros([N,nx])  # 状態ベクトル(真値)\n",
    "y = np.zeros([N,ny])  # 観測ベクトル"
   ]
  },
  {
   "cell_type": "code",
   "execution_count": 8,
   "metadata": {},
   "outputs": [],
   "source": [
    "x[0,:] = np.array([1.25, 0.06, 0.01, -0.003])\n",
    "\n",
    "for i in range(1,N):\n",
    "    x[i,:] = F.dot(x[i-1]) + G*np.random.normal(0, q)\n",
    "    y[i,:] = H.dot(x[i,:]) + np.random.normal(0, 1)"
   ]
  },
  {
   "cell_type": "code",
   "execution_count": 11,
   "metadata": {},
   "outputs": [],
   "source": [
    "# カルマンフィルター\n",
    "xp = np.zeros([N, nx])     # 一期先予測\n",
    "Pp = np.zeros([N, nx, nx]) # 一期先共分散\n",
    "\n",
    "xp[0,:] = np.array([0,0,0,0])  # 初期推定値\n",
    "Pp[0,:,:] = np.diag([1,1,1,1]) # 初期共分散\n",
    "\n",
    "xu = np.copy(xp)   # フィルタ予測\n",
    "Pu = np.copy(Pp)   # フィルタ共分散\n",
    "\n",
    "for i in range(1,N):\n",
    "    xp[i,:] = F.dot(xu[i-1,:])\n",
    "    Pp[i,:,:] = F.dot(Pu[i-1,:,:]).dot(F.T) + G.dot(q).dot(G.T)\n",
    "    \n",
    "    K = Pp[i,:].dot(H.T).dot(np.linalg.inv(H.dot(Pp[i,:]).dot(H.T)+R))\n",
    "    xu[i,:] = xp[i,:] + K.dot(y[i,:] - H.dot(xp[i]))"
   ]
  },
  {
   "cell_type": "code",
   "execution_count": 15,
   "metadata": {},
   "outputs": [
    {
     "data": {
      "text/plain": [
       "matrix([[ 1.        , -1.        ,  0.5       ,  0.82508251],\n",
       "        [ 0.        ,  1.        , -1.        , -1.65016502],\n",
       "        [ 0.        ,  0.        ,  1.        ,  0.        ],\n",
       "        [ 0.        ,  0.        ,  0.        ,  1.65016502]])"
      ]
     },
     "execution_count": 15,
     "metadata": {},
     "output_type": "execute_result"
    }
   ],
   "source": []
  },
  {
   "cell_type": "code",
   "execution_count": 10,
   "metadata": {},
   "outputs": [
    {
     "data": {
      "text/plain": [
       "[<matplotlib.lines.Line2D at 0x11ee73358>]"
      ]
     },
     "execution_count": 10,
     "metadata": {},
     "output_type": "execute_result"
    },
    {
     "data": {
      "image/png": "[encoded data removed]",
      "text/plain": [
       "<Figure size 432x288 with 1 Axes>"
      ]
     },
     "metadata": {
      "needs_background": "light"
     },
     "output_type": "display_data"
    }
   ],
   "source": [
    "plt.plot(y[:,0])\n",
    "plt.plot(x[:,0])"
   ]
  },
  {
   "cell_type": "code",
   "execution_count": null,
   "metadata": {},
   "outputs": [],
   "source": []
  },
  {
   "cell_type": "code",
   "execution_count": null,
   "metadata": {},
   "outputs": [],
   "source": []
  }
 ],
 "metadata": {
  "kernelspec": {
   "display_name": "Python 3",
   "language": "python",
   "name": "python3"
  },
  "language_info": {
   "codemirror_mode": {
    "name": "ipython",
    "version": 3
   },
   "file_extension": ".py",
   "mimetype": "text/x-python",
   "name": "python",
   "nbconvert_exporter": "python",
   "pygments_lexer": "ipython3",
   "version": "3.6.1"
  }
 },
 "nbformat": 4,
 "nbformat_minor": 4
}
